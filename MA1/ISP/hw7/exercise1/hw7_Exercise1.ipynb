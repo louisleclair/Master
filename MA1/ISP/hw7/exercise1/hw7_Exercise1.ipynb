{
 "cells": [
  {
   "cell_type": "code",
   "execution_count": 52,
   "metadata": {},
   "outputs": [],
   "source": [
    "import pandas as pd\n",
    "import numpy as np\n",
    "import os"
   ]
  },
  {
   "cell_type": "markdown",
   "metadata": {},
   "source": [
    "# Question 1"
   ]
  },
  {
   "cell_type": "code",
   "execution_count": 110,
   "metadata": {},
   "outputs": [],
   "source": [
    "data = pd.read_csv('anon_data/com402-1.csv', names = ['hash_email', 'hash_movie', 'date', 'rating'])\n",
    "imdb = pd.read_csv('anon_data/imdb-1.csv', names = ['email', 'movie', 'date', 'rating'])"
   ]
  },
  {
   "cell_type": "code",
   "execution_count": 111,
   "metadata": {},
   "outputs": [],
   "source": [
    "data.drop_duplicates(subset=['date', 'rating'], keep=False, inplace=True)\n",
    "imdb.drop_duplicates(subset=['date', 'rating'], keep=False, inplace=True)"
   ]
  },
  {
   "cell_type": "code",
   "execution_count": 112,
   "metadata": {},
   "outputs": [],
   "source": [
    "donald = imdb.loc[imdb['email']=='donald.trump@whitehouse.gov']\n",
    "donald_date = list(donald['date'])\n",
    "donald_rating = list(donald['rating'])\n",
    "donald_movies = list(donald['movie'])"
   ]
  },
  {
   "cell_type": "code",
   "execution_count": 125,
   "metadata": {},
   "outputs": [],
   "source": [
    "i = 0\n",
    "while True:\n",
    "    info = data.loc[data['date'] == donald_date[i]]\n",
    "    if len(info) == 1:\n",
    "        donald_hash = list(info['hash_email'])[0]\n",
    "        break\n",
    "    i += 1\n",
    "all_movies = data.loc[data['hash_email'] == donald_hash]"
   ]
  },
  {
   "cell_type": "code",
   "execution_count": 114,
   "metadata": {},
   "outputs": [],
   "source": [
    "all_hashes = []\n",
    "list_hashes = list(all_movies['hash_movie'])\n",
    "for h in list_hashes:\n",
    "    all_hashes.append(data.loc[data['hash_movie'] == h])"
   ]
  },
  {
   "cell_type": "code",
   "execution_count": 115,
   "metadata": {},
   "outputs": [],
   "source": [
    "for datas in all_hashes:\n",
    "    all_movies_date = list(datas['date'])\n",
    "    all_movies_rating = list(datas['rating'])\n",
    "    for i in range(len(all_movies_date)):\n",
    "        movie = imdb.loc[(imdb['date'] == all_movies_date[i]) & (imdb['rating'] == all_movies_rating[i])]\n",
    "        if len(movie) == 1:\n",
    "            movie = list(movie['movie'])[0]\n",
    "            if movie not in donald_movies:\n",
    "                donald_movies.append(movie)\n",
    "                break"
   ]
  },
  {
   "cell_type": "code",
   "execution_count": 116,
   "metadata": {},
   "outputs": [
    {
     "data": {
      "text/plain": [
       "['Pulp Fiction',\n",
       " 'North by Northwest',\n",
       " 'Tokyo Story',\n",
       " 'The Dark Knight',\n",
       " '12 Angry Men',\n",
       " 'Once Upon a Time in the West',\n",
       " 'Raiders of the Lost Ark',\n",
       " 'Seven Samurai',\n",
       " 'Modern Times',\n",
       " 'The Shawshank Redemption']"
      ]
     },
     "execution_count": 116,
     "metadata": {},
     "output_type": "execute_result"
    }
   ],
   "source": [
    "donald_movies"
   ]
  },
  {
   "cell_type": "markdown",
   "metadata": {},
   "source": [
    "# Question 2"
   ]
  },
  {
   "cell_type": "code",
   "execution_count": 237,
   "metadata": {},
   "outputs": [],
   "source": [
    "data = pd.read_csv('anon_data/com402-2.csv', names = ['hash_email', 'hash_movie', 'date', 'rating'])\n",
    "imdb = pd.read_csv('anon_data/imdb-2.csv', names = ['email', 'movie', 'date', 'rating'])"
   ]
  },
  {
   "cell_type": "code",
   "execution_count": 238,
   "metadata": {},
   "outputs": [],
   "source": [
    "donald = imdb.loc[imdb['email']=='donald.trump@whitehouse.gov']"
   ]
  },
  {
   "cell_type": "code",
   "execution_count": 239,
   "metadata": {},
   "outputs": [],
   "source": [
    "count_imdb = imdb.groupby(['movie']).count().drop(['date', 'rating'], axis=1)\n",
    "count_data = data.groupby(['hash_movie']).count().drop(['date', 'rating'], axis=1)"
   ]
  },
  {
   "cell_type": "code",
   "execution_count": 240,
   "metadata": {},
   "outputs": [],
   "source": [
    "count_imdb = count_imdb.sort_values(['email'])\n",
    "count_imdb = count_imdb.drop(['email'], axis=1)\n",
    "count_data = count_data.sort_values(['hash_email'])\n",
    "count_data = count_data.drop(['hash_email'], axis=1)"
   ]
  },
  {
   "cell_type": "code",
   "execution_count": 241,
   "metadata": {},
   "outputs": [],
   "source": [
    "count_imdb.reset_index(inplace = True)\n",
    "count_data.reset_index(inplace=True)\n",
    "count_data['movie'] = count_imdb['movie']"
   ]
  },
  {
   "cell_type": "code",
   "execution_count": 248,
   "metadata": {},
   "outputs": [],
   "source": [
    "df = count_data[count_data['movie'].apply(lambda x : x in list(donald.movie.values))]\n",
    "#check the people who watch the same movies as donald\n",
    "chess = data.loc[data['hash_movie'].apply(lambda x : x in list(df.hash_movie.values))]\n",
    "chess = chess.groupby(['hash_email']).count().drop(['date', 'rating'], axis=1).sort_values('hash_movie')"
   ]
  },
  {
   "cell_type": "code",
   "execution_count": 267,
   "metadata": {},
   "outputs": [],
   "source": [
    "hash_donald = chess.loc[chess['hash_movie'] == len(donald)].index[0]\n",
    "data_donald = data.loc[data['hash_email'] == hash_donald]"
   ]
  },
  {
   "cell_type": "code",
   "execution_count": 277,
   "metadata": {},
   "outputs": [
    {
     "data": {
      "text/html": [
       "<div>\n",
       "<style scoped>\n",
       "    .dataframe tbody tr th:only-of-type {\n",
       "        vertical-align: middle;\n",
       "    }\n",
       "\n",
       "    .dataframe tbody tr th {\n",
       "        vertical-align: top;\n",
       "    }\n",
       "\n",
       "    .dataframe thead th {\n",
       "        text-align: right;\n",
       "    }\n",
       "</style>\n",
       "<table border=\"1\" class=\"dataframe\">\n",
       "  <thead>\n",
       "    <tr style=\"text-align: right;\">\n",
       "      <th></th>\n",
       "      <th>hash_movie</th>\n",
       "      <th>movie</th>\n",
       "    </tr>\n",
       "  </thead>\n",
       "  <tbody>\n",
       "    <tr>\n",
       "      <th>43</th>\n",
       "      <td>c4064921f1ca8285436c7db53d7928c0cbdcc936d190d4...</td>\n",
       "      <td>12 Angry Men</td>\n",
       "    </tr>\n",
       "    <tr>\n",
       "      <th>31</th>\n",
       "      <td>adb8cc889e291b26cd22e114947706013d25f34aac598f...</td>\n",
       "      <td>Casablanca</td>\n",
       "    </tr>\n",
       "    <tr>\n",
       "      <th>28</th>\n",
       "      <td>7d7bde2b4de41bfc00566677c7c6b2dc32232f9a26b282...</td>\n",
       "      <td>Citizen Kane</td>\n",
       "    </tr>\n",
       "    <tr>\n",
       "      <th>8</th>\n",
       "      <td>fb2eca1e68c4cb64caf4c0b80a3512b3172905d6764e7a...</td>\n",
       "      <td>Double Indemnity</td>\n",
       "    </tr>\n",
       "    <tr>\n",
       "      <th>33</th>\n",
       "      <td>7baa788ccb84921b2f24c2e6a8e464da2d25cc5be8de3f...</td>\n",
       "      <td>Dr. Strangelove or: How I Learned to Stop Worr...</td>\n",
       "    </tr>\n",
       "    <tr>\n",
       "      <th>42</th>\n",
       "      <td>04e8b587fc6a98d661528d1ccf1e017488bd97dc6829a1...</td>\n",
       "      <td>Lawrence of Arabia</td>\n",
       "    </tr>\n",
       "    <tr>\n",
       "      <th>38</th>\n",
       "      <td>2e45a23c2cf453e43725236b60f192c7be3832e91830cc...</td>\n",
       "      <td>Modern Times</td>\n",
       "    </tr>\n",
       "    <tr>\n",
       "      <th>23</th>\n",
       "      <td>8c05ffbfb538c7e868c9a9bc77d23c8a264e8869dc0a9c...</td>\n",
       "      <td>Psycho</td>\n",
       "    </tr>\n",
       "    <tr>\n",
       "      <th>15</th>\n",
       "      <td>82aba494c180292607533eac65d3fdc719c35342e14073...</td>\n",
       "      <td>Raiders of the Lost Ark</td>\n",
       "    </tr>\n",
       "    <tr>\n",
       "      <th>24</th>\n",
       "      <td>229d0263028ec78469fbfd1f82d875b9d39fa25c415da1...</td>\n",
       "      <td>Rashomon</td>\n",
       "    </tr>\n",
       "    <tr>\n",
       "      <th>41</th>\n",
       "      <td>beae21b41f92bd412db46c0b3e1562212889f2fca24144...</td>\n",
       "      <td>Schindler's List</td>\n",
       "    </tr>\n",
       "    <tr>\n",
       "      <th>46</th>\n",
       "      <td>d91e795811791c422fade129e66bf67e2d70c16826b9d8...</td>\n",
       "      <td>Seven Samurai</td>\n",
       "    </tr>\n",
       "    <tr>\n",
       "      <th>16</th>\n",
       "      <td>86086423970cd6189e26b721047b915796ff7911001a0c...</td>\n",
       "      <td>Singin' in the Rain</td>\n",
       "    </tr>\n",
       "    <tr>\n",
       "      <th>36</th>\n",
       "      <td>50075616bd1042e879301d196811e339a75002bb16a0ca...</td>\n",
       "      <td>Spirited Away</td>\n",
       "    </tr>\n",
       "    <tr>\n",
       "      <th>19</th>\n",
       "      <td>76a41893b43028208e3f972abb0600dc745ebd77998601...</td>\n",
       "      <td>Star Wars: Episode V - The Empire Strikes Back</td>\n",
       "    </tr>\n",
       "    <tr>\n",
       "      <th>40</th>\n",
       "      <td>a1b3821379ba00289c4720fc51eba03ffb92b58adb3be4...</td>\n",
       "      <td>Sunset Blvd.</td>\n",
       "    </tr>\n",
       "    <tr>\n",
       "      <th>25</th>\n",
       "      <td>550bb5d9e51c4763697a259174547bb2aad073229578fa...</td>\n",
       "      <td>Taxi Driver</td>\n",
       "    </tr>\n",
       "    <tr>\n",
       "      <th>14</th>\n",
       "      <td>b7123f0d5a76079033bb417de6d9bc4efbc077dd9f1d58...</td>\n",
       "      <td>The Dark Knight</td>\n",
       "    </tr>\n",
       "    <tr>\n",
       "      <th>47</th>\n",
       "      <td>e1981605187f330578f05ee7009371f7403a9839773e50...</td>\n",
       "      <td>The Godfather</td>\n",
       "    </tr>\n",
       "    <tr>\n",
       "      <th>45</th>\n",
       "      <td>e58e4f51a3400bd598bd57baabf2eafe8b71e2fbbe9736...</td>\n",
       "      <td>The Godfather: Part II</td>\n",
       "    </tr>\n",
       "  </tbody>\n",
       "</table>\n",
       "</div>"
      ],
      "text/plain": [
       "                                           hash_movie  \\\n",
       "43  c4064921f1ca8285436c7db53d7928c0cbdcc936d190d4...   \n",
       "31  adb8cc889e291b26cd22e114947706013d25f34aac598f...   \n",
       "28  7d7bde2b4de41bfc00566677c7c6b2dc32232f9a26b282...   \n",
       "8   fb2eca1e68c4cb64caf4c0b80a3512b3172905d6764e7a...   \n",
       "33  7baa788ccb84921b2f24c2e6a8e464da2d25cc5be8de3f...   \n",
       "42  04e8b587fc6a98d661528d1ccf1e017488bd97dc6829a1...   \n",
       "38  2e45a23c2cf453e43725236b60f192c7be3832e91830cc...   \n",
       "23  8c05ffbfb538c7e868c9a9bc77d23c8a264e8869dc0a9c...   \n",
       "15  82aba494c180292607533eac65d3fdc719c35342e14073...   \n",
       "24  229d0263028ec78469fbfd1f82d875b9d39fa25c415da1...   \n",
       "41  beae21b41f92bd412db46c0b3e1562212889f2fca24144...   \n",
       "46  d91e795811791c422fade129e66bf67e2d70c16826b9d8...   \n",
       "16  86086423970cd6189e26b721047b915796ff7911001a0c...   \n",
       "36  50075616bd1042e879301d196811e339a75002bb16a0ca...   \n",
       "19  76a41893b43028208e3f972abb0600dc745ebd77998601...   \n",
       "40  a1b3821379ba00289c4720fc51eba03ffb92b58adb3be4...   \n",
       "25  550bb5d9e51c4763697a259174547bb2aad073229578fa...   \n",
       "14  b7123f0d5a76079033bb417de6d9bc4efbc077dd9f1d58...   \n",
       "47  e1981605187f330578f05ee7009371f7403a9839773e50...   \n",
       "45  e58e4f51a3400bd598bd57baabf2eafe8b71e2fbbe9736...   \n",
       "\n",
       "                                                movie  \n",
       "43                                       12 Angry Men  \n",
       "31                                         Casablanca  \n",
       "28                                       Citizen Kane  \n",
       "8                                    Double Indemnity  \n",
       "33  Dr. Strangelove or: How I Learned to Stop Worr...  \n",
       "42                                 Lawrence of Arabia  \n",
       "38                                       Modern Times  \n",
       "23                                             Psycho  \n",
       "15                            Raiders of the Lost Ark  \n",
       "24                                           Rashomon  \n",
       "41                                   Schindler's List  \n",
       "46                                      Seven Samurai  \n",
       "16                                Singin' in the Rain  \n",
       "36                                      Spirited Away  \n",
       "19     Star Wars: Episode V - The Empire Strikes Back  \n",
       "40                                       Sunset Blvd.  \n",
       "25                                        Taxi Driver  \n",
       "14                                    The Dark Knight  \n",
       "47                                      The Godfather  \n",
       "45                             The Godfather: Part II  "
      ]
     },
     "execution_count": 277,
     "metadata": {},
     "output_type": "execute_result"
    }
   ],
   "source": [
    "hash_movie_donald = list(data_donald['hash_movie'])\n",
    "count_data.loc[count_data['hash_movie'].apply(lambda x : x in hash_movie_donald)].sort_values('movie')"
   ]
  },
  {
   "cell_type": "code",
   "execution_count": null,
   "metadata": {},
   "outputs": [],
   "source": []
  }
 ],
 "metadata": {
  "kernelspec": {
   "display_name": "Python 3",
   "language": "python",
   "name": "python3"
  },
  "language_info": {
   "codemirror_mode": {
    "name": "ipython",
    "version": 3
   },
   "file_extension": ".py",
   "mimetype": "text/x-python",
   "name": "python",
   "nbconvert_exporter": "python",
   "pygments_lexer": "ipython3",
   "version": "3.8.5"
  }
 },
 "nbformat": 4,
 "nbformat_minor": 4
}
