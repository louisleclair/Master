{
 "cells": [
  {
   "cell_type": "code",
   "execution_count": 8,
   "metadata": {},
   "outputs": [],
   "source": [
    "import hashlib\n",
    "import string\n",
    "import time\n",
    "import itertools\n",
    "import os\n",
    "import pickle\n",
    "import random"
   ]
  },
  {
   "cell_type": "markdown",
   "metadata": {},
   "source": [
    "# Exercise 1: [Attack] Password Craking"
   ]
  },
  {
   "cell_type": "markdown",
   "metadata": {},
   "source": [
    "## Part 1a: Brute Force Attack"
   ]
  },
  {
   "cell_type": "code",
   "execution_count": 2,
   "metadata": {},
   "outputs": [],
   "source": [
    "hashPasswords = [\"7c58133ee543d78a9fce240ba7a273f37511bfe6835c04e3edf66f308e9bc6e5\", \n",
    "                \"37a2b469df9fc4d31f35f26ddc1168fe03f2361e329d92f4f2ef04af09741fb9\", \n",
    "                \"19dbaf86488ec08ba7a824b33571ce427e318d14fc84d3d764bd21ecb29c34ca\",\n",
    "                \"06240d77c297bb8bd727d5538a9121039911467c8bb871a935c84a5cfe8291e4\",\n",
    "                \"f5cd3218d18978d6e5ef95dd8c2088b7cde533c217cfef4850dd4b6fa0deef72\",\n",
    "                \"dd9ad1f17965325e4e5de2656152e8a5fce92b1c175947b485833cde0c824d64\",\n",
    "                \"845e7c74bc1b5532fe05a1e682b9781e273498af73f401a099d324fa99121c99\",\n",
    "                \"a6fb7de5b5e11b29bc232c5b5cd3044ca4b70f2cf421dc02b5798a7f68fc0523\",\n",
    "                \"1035f3e1491315d6eaf53f7e9fecf3b81e00139df2720ae361868c609815039c\",\n",
    "                \"10dccbaff60f7c6c0217692ad978b52bf036caf81bfcd90bfc9c0552181da85a\"]"
   ]
  },
  {
   "cell_type": "code",
   "execution_count": 19,
   "metadata": {},
   "outputs": [],
   "source": [
    "def bruteForce(hashPasswords):\n",
    "    start = time.time()\n",
    "    s = string.ascii_lowercase + string.digits\n",
    "    passwords = {}\n",
    "    for i in s:\n",
    "        for j in s:\n",
    "            for k in s:\n",
    "                for l in s:\n",
    "                    password = i + j + k + l\n",
    "                    mHash = hashlib.sha256()\n",
    "                    mHash.update(password.encode())\n",
    "                    hash256 = mHash.hexdigest()\n",
    "                    if hash256 in hashPasswords:\n",
    "                        passwords[hash256] = password\n",
    "                    for m in s:\n",
    "                        password = i + j + k + l + m\n",
    "                        mHash = hashlib.sha256()\n",
    "                        mHash.update(password.encode())\n",
    "                        hash256 = mHash.hexdigest()\n",
    "                        if hash256 in hashPasswords:\n",
    "                            passwords[hash256] = password\n",
    "                        for n in s:\n",
    "                            password = i + j + k + l + m + n\n",
    "                            mHash = hashlib.sha256()\n",
    "                            mHash.update(password.encode())\n",
    "                            hash256 = mHash.hexdigest()\n",
    "                            if hash256 in hashPasswords:\n",
    "                                passwords[hash256] = password\n",
    "    end = time.time()\n",
    "    delay = end-start\n",
    "    minutes = int(delay // 60)\n",
    "    seconds = int(delay % 60)\n",
    "    hours = int(minutes // 60)\n",
    "    print(f'{hours}h:{minutes}min:{seconds}s')\n",
    "    return passwords"
   ]
  },
  {
   "cell_type": "code",
   "execution_count": 20,
   "metadata": {
    "scrolled": true
   },
   "outputs": [
    {
     "data": {
      "text/plain": [
       "{'06240d77c297bb8bd727d5538a9121039911467c8bb871a935c84a5cfe8291e4': 'feh9ay',\n",
       " '7c58133ee543d78a9fce240ba7a273f37511bfe6835c04e3edf66f308e9bc6e5': 'xex167',\n",
       " '37a2b469df9fc4d31f35f26ddc1168fe03f2361e329d92f4f2ef04af09741fb9': 'xontbc',\n",
       " '10dccbaff60f7c6c0217692ad978b52bf036caf81bfcd90bfc9c0552181da85a': '26i4id',\n",
       " 'f5cd3218d18978d6e5ef95dd8c2088b7cde533c217cfef4850dd4b6fa0deef72': '7rimq7'}"
      ]
     },
     "execution_count": 20,
     "metadata": {},
     "output_type": "execute_result"
    }
   ],
   "source": [
    "bruteForce(hashPasswords)"
   ]
  },
  {
   "cell_type": "code",
   "execution_count": 5,
   "metadata": {},
   "outputs": [],
   "source": [
    "Passwords = {'06240d77c297bb8bd727d5538a9121039911467c8bb871a935c84a5cfe8291e4': 'feh9ay',\n",
    " '7c58133ee543d78a9fce240ba7a273f37511bfe6835c04e3edf66f308e9bc6e5': 'xex167',\n",
    " '37a2b469df9fc4d31f35f26ddc1168fe03f2361e329d92f4f2ef04af09741fb9': 'xontbc',\n",
    " '10dccbaff60f7c6c0217692ad978b52bf036caf81bfcd90bfc9c0552181da85a': '26i4id',\n",
    " 'f5cd3218d18978d6e5ef95dd8c2088b7cde533c217cfef4850dd4b6fa0deef72': '7rimq7',\n",
    " 'a6fb7de5b5e11b29bc232c5b5cd3044ca4b70f2cf421dc02b5798a7f68fc0523': 'bgfvf',\n",
    " 'dd9ad1f17965325e4e5de2656152e8a5fce92b1c175947b485833cde0c824d64': 'gi02n',\n",
    " '19dbaf86488ec08ba7a824b33571ce427e318d14fc84d3d764bd21ecb29c34ca': 'szpn9',\n",
    " '1035f3e1491315d6eaf53f7e9fecf3b81e00139df2720ae361868c609815039c': '2vdxm',\n",
    " '845e7c74bc1b5532fe05a1e682b9781e273498af73f401a099d324fa99121c99': 'j67c'}"
   ]
  },
  {
   "cell_type": "markdown",
   "metadata": {},
   "source": [
    "## Other methods"
   ]
  },
  {
   "cell_type": "code",
   "execution_count": 3,
   "metadata": {},
   "outputs": [],
   "source": [
    "alphabet = string.ascii_lowercase + string.digits"
   ]
  },
  {
   "cell_type": "code",
   "execution_count": 4,
   "metadata": {},
   "outputs": [
    {
     "data": {
      "text/plain": [
       "319.63178515434265"
      ]
     },
     "execution_count": 4,
     "metadata": {},
     "output_type": "execute_result"
    }
   ],
   "source": [
    "start = time.time()\n",
    "all_passwords = [''.join(c) for i in range(4, 7) for c in itertools.product(alphabet, repeat=i)]\n",
    "end = time.time()\n",
    "end - start"
   ]
  },
  {
   "cell_type": "code",
   "execution_count": 5,
   "metadata": {},
   "outputs": [
    {
     "name": "stdout",
     "output_type": "stream",
     "text": [
      "845e7c74bc1b5532fe05a1e682b9781e273498af73f401a099d324fa99121c99 j67c\n",
      "a6fb7de5b5e11b29bc232c5b5cd3044ca4b70f2cf421dc02b5798a7f68fc0523 bgfvf\n",
      "dd9ad1f17965325e4e5de2656152e8a5fce92b1c175947b485833cde0c824d64 gi02n\n",
      "19dbaf86488ec08ba7a824b33571ce427e318d14fc84d3d764bd21ecb29c34ca szpn9\n",
      "1035f3e1491315d6eaf53f7e9fecf3b81e00139df2720ae361868c609815039c 2vdxm\n",
      "06240d77c297bb8bd727d5538a9121039911467c8bb871a935c84a5cfe8291e4 feh9ay\n",
      "7c58133ee543d78a9fce240ba7a273f37511bfe6835c04e3edf66f308e9bc6e5 xex167\n",
      "37a2b469df9fc4d31f35f26ddc1168fe03f2361e329d92f4f2ef04af09741fb9 xontbc\n",
      "10dccbaff60f7c6c0217692ad978b52bf036caf81bfcd90bfc9c0552181da85a 26i4id\n",
      "f5cd3218d18978d6e5ef95dd8c2088b7cde533c217cfef4850dd4b6fa0deef72 7rimq7\n",
      "8h:48min:16s\n"
     ]
    }
   ],
   "source": [
    "start = time.time()\n",
    "pwds = {}\n",
    "for c in all_passwords:\n",
    "    if len(hashPasswords) == len(pwds):\n",
    "        break\n",
    "    else:\n",
    "        h = hashlib.sha256()\n",
    "        h.update(c.encode())\n",
    "        h256 = h.hexdigest()\n",
    "        if h256 in hashPasswords:\n",
    "            pwds[h256] = c\n",
    "            print(h256, c)\n",
    "end = time.time()\n",
    "delay = end-start\n",
    "minutes = int(delay // 60)\n",
    "seconds = int(delay % 60)\n",
    "hours = int(minutes // 60)\n",
    "\n",
    "print(f'{hours}h:{minutes}min:{seconds}s')"
   ]
  },
  {
   "cell_type": "markdown",
   "metadata": {},
   "source": [
    "## Part 1b: Dictionary attack with rules"
   ]
  },
  {
   "cell_type": "code",
   "execution_count": 126,
   "metadata": {},
   "outputs": [],
   "source": [
    "hashPasswords = ['2e41f7133fd134335f566736c03cc02621a03a4d21954c3bec6a1f2807e87b8a',\n",
    "                 '7987d2f5f930524a31e0716314c2710c89ae849b4e51a563be67c82344bcc8da',\n",
    "                 '076f8c265a856303ac6ae57539140e88a3cbce2a2197b872ba6894132ccf92fb',\n",
    "                 'b1ea522fd21e8fe242136488428b8604b83acea430d6fcd36159973f48b1102e',\n",
    "                 '3992b888e772681224099302a5eeb6f8cf27530f7510f0cce1f26e79fdf8ea21',\n",
    "                 '326e90c0d2e7073d578976d120a4071f83ce6b7bc89c16ecb215d99b3d51a29b',\n",
    "                 '269398301262810bdf542150a2c1b81ffe0e1282856058a0e26bda91512cfdc4',\n",
    "                 '4fbee71939b9a46db36a3b0feb3d04668692fa020d30909c12b6e00c2d902c31',\n",
    "                 '55c5a78379afce32da9d633ffe6a7a58fa06f9bbe66ba82af61838be400d624e',\n",
    "                 '5106610b8ac6bc9da787a89bf577e888bce9c07e09e6caaf780d2288c3ec1f0c']\n"
   ]
  },
  {
   "cell_type": "code",
   "execution_count": 42,
   "metadata": {
    "scrolled": true
   },
   "outputs": [],
   "source": [
    "alphabet = string.ascii_lowercase + string.digits\n",
    "filenames = list(filter(lambda a: 'txt' in a, os.listdir(os.getcwd() + '/Dictionaries')))"
   ]
  },
  {
   "cell_type": "code",
   "execution_count": 45,
   "metadata": {},
   "outputs": [],
   "source": [
    "passwords = []\n",
    "for file in filenames:\n",
    "    with open('Dictionaries/'+file, 'r') as f:\n",
    "        for line in f:\n",
    "            put = True\n",
    "            line = line.replace('\\n', '')\n",
    "            line = line.strip()\n",
    "            line = line.lower()\n",
    "            if len(line) > 0 and type(line) is str:\n",
    "                for i in line:\n",
    "                    if i not in alphabet:\n",
    "                        put = False\n",
    "                        break                \n",
    "                if put:\n",
    "                    passwords.append(line)"
   ]
  },
  {
   "cell_type": "code",
   "execution_count": 46,
   "metadata": {},
   "outputs": [
    {
     "data": {
      "text/plain": [
       "13866822"
      ]
     },
     "execution_count": 46,
     "metadata": {},
     "output_type": "execute_result"
    }
   ],
   "source": [
    "passwords = set(passwords)\n",
    "len(passwords)"
   ]
  },
  {
   "cell_type": "code",
   "execution_count": 162,
   "metadata": {},
   "outputs": [],
   "source": [
    "def rules(pwd, title, e_to_3, o_to_0, i_to_1):\n",
    "    if title:\n",
    "        pwd = pwd.title()\n",
    "    if e_to_3:\n",
    "        pwd = pwd.replace('e', '3')\n",
    "        pwd = pwd.replace('E', '3')\n",
    "    if o_to_0:\n",
    "        pwd = pwd.replace('o', '0')\n",
    "        pwd = pwd.replace('O', '0')\n",
    "    if i_to_1:\n",
    "        pwd = pwd.replace('i', '1')\n",
    "        pwd = pwd.replace('I', '1')\n",
    "    return pwd"
   ]
  },
  {
   "cell_type": "code",
   "execution_count": 163,
   "metadata": {},
   "outputs": [],
   "source": [
    "def all_transformations(pwd):\n",
    "    transformations = []\n",
    "    e_in = 'e' in pwd or 'E' in pwd\n",
    "    i_in = 'i' in pwd or 'I' in pwd\n",
    "    o_in = 'o' in pwd or 'O' in pwd\n",
    "    for t in itertools.product([False, True], repeat=1+e_in+i_in+o_in):\n",
    "        bools = [t[0], t[1] if e_in else False, t[1 + e_in] if o_in else False, t[1 + e_in + o_in] if i_in else False]\n",
    "        transformations.append(bools)\n",
    "    return transformations"
   ]
  },
  {
   "cell_type": "code",
   "execution_count": 178,
   "metadata": {
    "scrolled": true
   },
   "outputs": [
    {
     "name": "stdout",
     "output_type": "stream",
     "text": [
      "326e90c0d2e7073d578976d120a4071f83ce6b7bc89c16ecb215d99b3d51a29b delmar00\n",
      "b1ea522fd21e8fe242136488428b8604b83acea430d6fcd36159973f48b1102e captpimp\n",
      "076f8c265a856303ac6ae57539140e88a3cbce2a2197b872ba6894132ccf92fb 0scar00\n",
      "4fbee71939b9a46db36a3b0feb3d04668692fa020d30909c12b6e00c2d902c31 802561\n",
      "269398301262810bdf542150a2c1b81ffe0e1282856058a0e26bda91512cfdc4 6033503\n",
      "5106610b8ac6bc9da787a89bf577e888bce9c07e09e6caaf780d2288c3ec1f0c 19387\n",
      "2e41f7133fd134335f566736c03cc02621a03a4d21954c3bec6a1f2807e87b8a alban1an123\n",
      "55c5a78379afce32da9d633ffe6a7a58fa06f9bbe66ba82af61838be400d624e 1M0nj1tas\n",
      "7987d2f5f930524a31e0716314c2710c89ae849b4e51a563be67c82344bcc8da Dalbc00s\n",
      "0h:2min:12s | count = 63431668\n"
     ]
    }
   ],
   "source": [
    "pwds_2 = {}\n",
    "count = 0\n",
    "end = False\n",
    "start = time.time()\n",
    "for pwd in passwords:\n",
    "    inside = False\n",
    "    for t in all_transformations(pwd):\n",
    "        count += 1\n",
    "        pwd_ts = rules(pwd, *t)\n",
    "        h = hashlib.sha256()\n",
    "        h.update(pwd_ts.encode())\n",
    "        h256 = h.hexdigest()\n",
    "        if h256 in hashPasswords and h256 not in pwds_2:\n",
    "            pwds_2[h256] = pwd_ts\n",
    "            print(h256, pwd_ts)\n",
    "end = time.time()\n",
    "delay = end-start\n",
    "minutes = int(delay // 60)\n",
    "seconds = int(delay % 60)\n",
    "hours = int(minutes // 60)\n",
    "\n",
    "print(f'{hours}h:{minutes}min:{seconds}s | count = {count}')"
   ]
  },
  {
   "cell_type": "markdown",
   "metadata": {},
   "source": [
    "## Part 1c: Dictionary attack with salt"
   ]
  },
  {
   "cell_type": "code",
   "execution_count": 18,
   "metadata": {},
   "outputs": [],
   "source": [
    "saltHash = [('962642e330bd50792f647c1bf71895c5990be4ebf6b3ca60332befd732aed56c','b9'),\n",
    "            ('8eef79d547f7a6d6a79329be3c7035f8e377f9e629cd9756936ec233969a45a3','be'),\n",
    "            ('e71067887d50ce854545afdd75d10fa80b841b98bb13272cf4be7ef0619c7dab','bc'),\n",
    "            ('889a22781ef9b72b7689d9982bb3e22d31b6d7cc04db7571178a4496dc5ee128','72'),\n",
    "            ('6a16f9c6d9542a55c1560c65f25540672db6b6e121a6ba91ee5745dabdc4f208','9f'),\n",
    "            ('2317603823a03507c8d7b2970229ee267d22192b8bb8760bb5fcef2cf4c09edf','17'),\n",
    "            ('c6c51f8a7319a7d0985babe1b6e4f5c329403d082e05e83d7b9d0bf55876ecdc','94'),\n",
    "            ('c01304fc36655dd37b5aa8ca96d34382ed9248b87650fffcd6ec70c9342bf451','7f'),\n",
    "            ('cff39d9be689f0fc7725a43c3bdc7f5be012c840b9db9b547e6e3c454a076fc8','2e'),\n",
    "            ('662ab7be194cee762494c6d725f29ef6321519035bfb15817e84342829728891','24')]\n",
    "onlyHash = [x for x,y in saltHash]"
   ]
  },
  {
   "cell_type": "code",
   "execution_count": 47,
   "metadata": {},
   "outputs": [
    {
     "name": "stdout",
     "output_type": "stream",
     "text": [
      "962642e330bd50792f647c1bf71895c5990be4ebf6b3ca60332befd732aed56c albanian123 b9\n",
      "8eef79d547f7a6d6a79329be3c7035f8e377f9e629cd9756936ec233969a45a3 thesims9 be\n",
      "e71067887d50ce854545afdd75d10fa80b841b98bb13272cf4be7ef0619c7dab jasnic1 bc\n",
      "889a22781ef9b72b7689d9982bb3e22d31b6d7cc04db7571178a4496dc5ee128 atychi1 72\n",
      "6a16f9c6d9542a55c1560c65f25540672db6b6e121a6ba91ee5745dabdc4f208 solkingfran 9f\n",
      "2317603823a03507c8d7b2970229ee267d22192b8bb8760bb5fcef2cf4c09edf kapono 17\n",
      "c6c51f8a7319a7d0985babe1b6e4f5c329403d082e05e83d7b9d0bf55876ecdc kaylahh1 94\n",
      "c01304fc36655dd37b5aa8ca96d34382ed9248b87650fffcd6ec70c9342bf451 kennethix 7f\n",
      "cff39d9be689f0fc7725a43c3bdc7f5be012c840b9db9b547e6e3c454a076fc8 steele99 2e\n",
      "0h:1min:23s\n"
     ]
    }
   ],
   "source": [
    "passwords_bis = {}\n",
    "start = time.time()\n",
    "\n",
    "for i in range(10):\n",
    "    salt = saltHash[i][1]\n",
    "    found = False\n",
    "    for p in passwords:\n",
    "        h = hashlib.sha256()\n",
    "        h.update((p+salt).encode())\n",
    "        h256 = h.hexdigest()\n",
    "        if h256 in onlyHash and h256 not in passwords_bis:\n",
    "            passwords_bis[h256] = (p, salt)\n",
    "            print(h256, p, salt)\n",
    "            break\n",
    "            \n",
    "end = time.time()\n",
    "delay = end-start\n",
    "minutes = int(delay // 60)\n",
    "seconds = int(delay % 60)\n",
    "hours = int(minutes // 60)\n",
    "\n",
    "print(f'{hours}h:{minutes}min:{seconds}s')"
   ]
  },
  {
   "cell_type": "markdown",
   "metadata": {},
   "source": [
    "# Exercise 2: [attack] Use rainbow tables"
   ]
  },
  {
   "cell_type": "code",
   "execution_count": 97,
   "metadata": {},
   "outputs": [],
   "source": [
    "alphabet = string.ascii_lowercase + string.digits\n",
    "numRows = int(10)\n",
    "numCols = int(1e3)"
   ]
  },
  {
   "cell_type": "code",
   "execution_count": 98,
   "metadata": {},
   "outputs": [],
   "source": [
    "files = list(filter(lambda a: 'txt' in a,os.listdir(os.getcwd() + '/Rainbow')))"
   ]
  },
  {
   "cell_type": "code",
   "execution_count": 99,
   "metadata": {},
   "outputs": [],
   "source": [
    "hashes = []\n",
    "for file in files:\n",
    "    with open('Rainbow/'+file, 'r') as f:\n",
    "        for line in f:\n",
    "            line = line.replace('\\n', '')\n",
    "            line = line.strip()\n",
    "            line = line.lower()\n",
    "            if len(line) > 0 and type(line) is str:\n",
    "                hashes.append(line)"
   ]
  },
  {
   "cell_type": "code",
   "execution_count": 103,
   "metadata": {},
   "outputs": [],
   "source": [
    "def rainbow(alphabet, numRows, numCols):\n",
    "    rainbowTable = {}\n",
    "    base = len(alphabet)\n",
    "    for i in range(numRows):\n",
    "        random.seed(i)\n",
    "        randomString = ''.join(random.choice(alphabet) for _ in range(8))\n",
    "        curString = randomString\n",
    "        for j in range(numCols):\n",
    "            h = hashlib.sha256()\n",
    "            h.update(curString.encode())\n",
    "            h = h.hexdigest()\n",
    "            h_base10 = int(h[:24],16) + j\n",
    "            newString = ''\n",
    "            old_base, new_base = h_base10, h_base10\n",
    "            for k in range(8):\n",
    "                old_base %= base\n",
    "                newString += alphabet[old_base]\n",
    "                new_base //= base\n",
    "                old_base = new_base\n",
    "            curString = newString\n",
    "        rainbowTable[curString] = randomString\n",
    "    return rainbowTable"
   ]
  },
  {
   "cell_type": "code",
   "execution_count": 104,
   "metadata": {},
   "outputs": [],
   "source": [
    "rain = rainbow(alphabet,numRows,numCols)"
   ]
  },
  {
   "cell_type": "code",
   "execution_count": null,
   "metadata": {},
   "outputs": [],
   "source": [
    "def lookUp(hashes, rain, numCols):\n",
    "    for pwdHash in hashes:\n",
    "        for i in range(numCols, 0, -1):\n",
    "            subHash = int(pwdHash[:24],16) + i\n",
    "            newString = ''\n",
    "            old_base, new_base = h_base10, h_base10\n",
    "            for k in range(8):\n",
    "                old_base %= base\n",
    "                newString += alphabet[old_base]\n",
    "                new_base //= base\n",
    "                old_base = new_base\n",
    "            curString = newString\n",
    "            if curString in rain:\n",
    "                pass\n",
    "    return None"
   ]
  }
 ],
 "metadata": {
  "kernelspec": {
   "display_name": "Python 3",
   "language": "python",
   "name": "python3"
  }
 },
 "nbformat": 4,
 "nbformat_minor": 4
}
